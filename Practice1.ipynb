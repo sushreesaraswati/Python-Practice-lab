{
 "cells": [
  {
   "cell_type": "code",
   "execution_count": 5,
   "id": "69e2bd79",
   "metadata": {},
   "outputs": [],
   "source": [
    "aa='SL66ICEOF6SPAM '"
   ]
  },
  {
   "cell_type": "code",
   "execution_count": 6,
   "id": "abe6a8f2",
   "metadata": {},
   "outputs": [
    {
     "data": {
      "text/plain": [
       "' MAPS6FOECI66LS'"
      ]
     },
     "execution_count": 6,
     "metadata": {},
     "output_type": "execute_result"
    }
   ],
   "source": [
    "aa[::-1]"
   ]
  },
  {
   "cell_type": "code",
   "execution_count": 7,
   "id": "55a8da75",
   "metadata": {},
   "outputs": [
    {
     "data": {
      "text/plain": [
       "15"
      ]
     },
     "execution_count": 7,
     "metadata": {},
     "output_type": "execute_result"
    }
   ],
   "source": [
    "len(aa)"
   ]
  },
  {
   "cell_type": "code",
   "execution_count": 9,
   "id": "acd9787d",
   "metadata": {},
   "outputs": [
    {
     "name": "stdout",
     "output_type": "stream",
     "text": [
      "hello there  hello there  hello there  \n"
     ]
    }
   ],
   "source": [
    "x = 'hello'\n",
    "x = x + ' there ' + ' '\n",
    "print(x*3)"
   ]
  },
  {
   "cell_type": "code",
   "execution_count": 10,
   "id": "55d32928",
   "metadata": {},
   "outputs": [
    {
     "name": "stdout",
     "output_type": "stream",
     "text": [
      "39\n"
     ]
    }
   ],
   "source": [
    "x = 'hello'\n",
    "x = x + ' there ' + ' '\n",
    "print(len(x*3))"
   ]
  },
  {
   "cell_type": "code",
   "execution_count": 11,
   "id": "64fe61a3",
   "metadata": {},
   "outputs": [
    {
     "name": "stdout",
     "output_type": "stream",
     "text": [
      "hhhhhhhhhh\n"
     ]
    }
   ],
   "source": [
    "x = 'h'\n",
    "print(x*10)"
   ]
  },
  {
   "cell_type": "code",
   "execution_count": 12,
   "id": "142e9de2",
   "metadata": {},
   "outputs": [
    {
     "name": "stdout",
     "output_type": "stream",
     "text": [
      "I am a stringAnd me too!And me too!\n",
      "though I am much longer\n",
      "than the others :)\n"
     ]
    }
   ],
   "source": [
    "s = 'I am a string'\n",
    "s = s + \"And me too!\" + 'And me too!\\nthough I am much longer\\nthan the others :)'\n",
    "print(s)"
   ]
  },
  {
   "cell_type": "code",
   "execution_count": 16,
   "id": "85ca175d",
   "metadata": {},
   "outputs": [
    {
     "data": {
      "text/plain": [
       "'sushree'"
      ]
     },
     "execution_count": 16,
     "metadata": {},
     "output_type": "execute_result"
    }
   ],
   "source": [
    "'sushree'"
   ]
  },
  {
   "cell_type": "code",
   "execution_count": 14,
   "id": "e7725e6d",
   "metadata": {},
   "outputs": [
    {
     "data": {
      "text/plain": [
       "'sushree'"
      ]
     },
     "execution_count": 14,
     "metadata": {},
     "output_type": "execute_result"
    }
   ],
   "source": [
    "\"sushree\""
   ]
  },
  {
   "cell_type": "code",
   "execution_count": 20,
   "id": "c83fbd1d",
   "metadata": {},
   "outputs": [
    {
     "data": {
      "text/plain": [
       "\"m' \\n sushree\""
      ]
     },
     "execution_count": 20,
     "metadata": {},
     "output_type": "execute_result"
    }
   ],
   "source": [
    "\"m' \\n sushree\""
   ]
  },
  {
   "cell_type": "code",
   "execution_count": 22,
   "id": "a0c5dcd6",
   "metadata": {},
   "outputs": [
    {
     "data": {
      "text/plain": [
       "'m\" \\\\nsushree'"
      ]
     },
     "execution_count": 22,
     "metadata": {},
     "output_type": "execute_result"
    }
   ],
   "source": [
    "'m\" \\\\nsushree'"
   ]
  },
  {
   "cell_type": "code",
   "execution_count": null,
   "id": "0e79aa2e",
   "metadata": {},
   "outputs": [],
   "source": []
  }
 ],
 "metadata": {
  "kernelspec": {
   "display_name": "Python 3",
   "language": "python",
   "name": "python3"
  },
  "language_info": {
   "codemirror_mode": {
    "name": "ipython",
    "version": 3
   },
   "file_extension": ".py",
   "mimetype": "text/x-python",
   "name": "python",
   "nbconvert_exporter": "python",
   "pygments_lexer": "ipython3",
   "version": "3.8.8"
  }
 },
 "nbformat": 4,
 "nbformat_minor": 5
}
