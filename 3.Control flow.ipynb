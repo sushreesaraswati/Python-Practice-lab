{
 "cells": [
  {
   "cell_type": "markdown",
   "id": "7d4de18a",
   "metadata": {},
   "source": [
    "## Lab Class: 2nd (18.8.21)"
   ]
  },
  {
   "cell_type": "markdown",
   "id": "97e2a6bb",
   "metadata": {},
   "source": [
    "## 3.Control flow"
   ]
  },
  {
   "cell_type": "markdown",
   "id": "b4fb8c2c",
   "metadata": {},
   "source": [
    "### 1.Comparison operetors"
   ]
  },
  {
   "cell_type": "code",
   "execution_count": 3,
   "id": "9b019178",
   "metadata": {},
   "outputs": [
    {
     "data": {
      "text/plain": [
       "True"
      ]
     },
     "execution_count": 3,
     "metadata": {},
     "output_type": "execute_result"
    }
   ],
   "source": [
    "10 > 3\n",
    "10 >= 3\n",
    "10 <= 20\n",
    "10 == 10"
   ]
  },
  {
   "cell_type": "code",
   "execution_count": 4,
   "id": "8e8dd11b",
   "metadata": {},
   "outputs": [
    {
     "data": {
      "text/plain": [
       "False"
      ]
     },
     "execution_count": 4,
     "metadata": {},
     "output_type": "execute_result"
    }
   ],
   "source": [
    "10 ==\"10\""
   ]
  },
  {
   "cell_type": "code",
   "execution_count": 5,
   "id": "165a5541",
   "metadata": {},
   "outputs": [
    {
     "data": {
      "text/plain": [
       "False"
      ]
     },
     "execution_count": 5,
     "metadata": {},
     "output_type": "execute_result"
    }
   ],
   "source": [
    "'bag' == 'BAG'"
   ]
  },
  {
   "cell_type": "markdown",
   "id": "887f150e",
   "metadata": {},
   "source": [
    "### 2.Conditional Statement"
   ]
  },
  {
   "cell_type": "code",
   "execution_count": 15,
   "id": "382960eb",
   "metadata": {},
   "outputs": [
    {
     "name": "stdout",
     "output_type": "stream",
     "text": [
      " please add the value of temp: 25\n",
      "done\n",
      "it's ok\n"
     ]
    }
   ],
   "source": [
    "temperature = int(input(' please add the value of temp: '))\n",
    "if temperature > 30:\n",
    "    print(\"it is very hot day\")\n",
    "    print(\"it is warm\")\n",
    "    print(\"drink water\")\n",
    "print(\"done\")\n",
    "print(\"it's ok\")"
   ]
  },
  {
   "cell_type": "code",
   "execution_count": null,
   "id": "54d60d8a",
   "metadata": {},
   "outputs": [],
   "source": [
    "temperature = int(input(' please add the value of temp: '))\n",
    "if temperature > 30:\n",
    "    print(\"it is warm\")\n",
    "    print(\"drink water\")\n",
    "elif tempereture > 20:\n",
    "    print(\"it is nice day\")\n",
    "print(\"done\")\n"
   ]
  },
  {
   "cell_type": "code",
   "execution_count": null,
   "id": "c55857b3",
   "metadata": {},
   "outputs": [],
   "source": [
    "temperature = int(input(' please add the value of temp: '))\n",
    "if temperature > 30:\n",
    "    print(\"it is warm\")\n",
    "    print(\"drink water\")\n",
    "elif tempereture > 20:\n",
    "    print(\"it is nice day\")\n",
    "elif tempereture == 5:\n",
    "    print('its very cold day')\n",
    "print(\"done\")"
   ]
  },
  {
   "cell_type": "code",
   "execution_count": null,
   "id": "f9e7ff8b",
   "metadata": {},
   "outputs": [],
   "source": [
    "temperature = int(input(' please add the value of temp: '))\n",
    "if temperature > 30:\n",
    "    print(\"it is warm\")\n",
    "    print(\"drink water\")\n",
    "elif tempereture > 20:\n",
    "    print(\"it is nice day\")\n",
    "print(\"done\")\n"
   ]
  },
  {
   "cell_type": "code",
   "execution_count": null,
   "id": "7f13b97a",
   "metadata": {},
   "outputs": [],
   "source": []
  }
 ],
 "metadata": {
  "kernelspec": {
   "display_name": "Python 3",
   "language": "python",
   "name": "python3"
  },
  "language_info": {
   "codemirror_mode": {
    "name": "ipython",
    "version": 3
   },
   "file_extension": ".py",
   "mimetype": "text/x-python",
   "name": "python",
   "nbconvert_exporter": "python",
   "pygments_lexer": "ipython3",
   "version": "3.8.8"
  }
 },
 "nbformat": 4,
 "nbformat_minor": 5
}
