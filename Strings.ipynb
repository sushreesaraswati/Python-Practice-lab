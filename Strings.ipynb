{
 "cells": [
  {
   "cell_type": "markdown",
   "id": "3690d654",
   "metadata": {},
   "source": [
    "### Creating a String"
   ]
  },
  {
   "cell_type": "code",
   "execution_count": 4,
   "id": "47b09640",
   "metadata": {},
   "outputs": [
    {
     "data": {
      "text/plain": [
       "'hello'"
      ]
     },
     "execution_count": 4,
     "metadata": {},
     "output_type": "execute_result"
    }
   ],
   "source": [
    "# Single word\n",
    "'hello'"
   ]
  },
  {
   "cell_type": "code",
   "execution_count": 11,
   "id": "0eb579a7",
   "metadata": {},
   "outputs": [
    {
     "name": "stdout",
     "output_type": "stream",
     "text": [
      "Hello!r\n"
     ]
    }
   ],
   "source": [
    "print('Hello!r')"
   ]
  },
  {
   "cell_type": "code",
   "execution_count": 5,
   "id": "b8367a90",
   "metadata": {},
   "outputs": [
    {
     "data": {
      "text/plain": [
       "'This is also a string'"
      ]
     },
     "execution_count": 5,
     "metadata": {},
     "output_type": "execute_result"
    }
   ],
   "source": [
    "# Entire phrase \n",
    "'This is also a string'"
   ]
  },
  {
   "cell_type": "code",
   "execution_count": 7,
   "id": "718742ac",
   "metadata": {},
   "outputs": [
    {
     "name": "stdout",
     "output_type": "stream",
     "text": [
      "This is also a string\n"
     ]
    }
   ],
   "source": [
    "print('This is also a string')"
   ]
  },
  {
   "cell_type": "code",
   "execution_count": 8,
   "id": "4822cafc",
   "metadata": {},
   "outputs": [
    {
     "data": {
      "text/plain": [
       "'String built with double quotes'"
      ]
     },
     "execution_count": 8,
     "metadata": {},
     "output_type": "execute_result"
    }
   ],
   "source": [
    "# We can also use double quote\n",
    "\"String built with double quotes\""
   ]
  },
  {
   "cell_type": "code",
   "execution_count": 12,
   "id": "c1a810f6",
   "metadata": {},
   "outputs": [
    {
     "data": {
      "text/plain": [
       "'String built with double quotes'"
      ]
     },
     "execution_count": 12,
     "metadata": {},
     "output_type": "execute_result"
    }
   ],
   "source": [
    "\"String built with double quotes\""
   ]
  },
  {
   "cell_type": "code",
   "execution_count": 17,
   "id": "618bbfa3",
   "metadata": {},
   "outputs": [
    {
     "data": {
      "text/plain": [
       "'I am using single quotes, but this will create an error'"
      ]
     },
     "execution_count": 17,
     "metadata": {},
     "output_type": "execute_result"
    }
   ],
   "source": [
    "# Be careful with quotes!\n",
    "('I am using single quotes, but this will create an error')"
   ]
  },
  {
   "cell_type": "code",
   "execution_count": 18,
   "id": "6fff5db4",
   "metadata": {},
   "outputs": [
    {
     "name": "stdout",
     "output_type": "stream",
     "text": [
      "I am using single quotes, but this will create an error\n"
     ]
    }
   ],
   "source": [
    "print('I am using single quotes, but this will create an error')"
   ]
  },
  {
   "cell_type": "code",
   "execution_count": 19,
   "id": "79f5ead0",
   "metadata": {},
   "outputs": [
    {
     "data": {
      "text/plain": [
       "\"Now I'm ready to use the single quotes inside a string!\""
      ]
     },
     "execution_count": 19,
     "metadata": {},
     "output_type": "execute_result"
    }
   ],
   "source": [
    "\"Now I'm ready to use the single quotes inside a string!\""
   ]
  },
  {
   "cell_type": "markdown",
   "id": "bf6211de",
   "metadata": {},
   "source": [
    "## Printing a String"
   ]
  },
  {
   "cell_type": "code",
   "execution_count": 21,
   "id": "47a27605",
   "metadata": {},
   "outputs": [
    {
     "data": {
      "text/plain": [
       "'Hello World'"
      ]
     },
     "execution_count": 21,
     "metadata": {},
     "output_type": "execute_result"
    }
   ],
   "source": [
    "# We can simply declare a string\n",
    "'Hello World'"
   ]
  },
  {
   "cell_type": "code",
   "execution_count": 22,
   "id": "3d714250",
   "metadata": {},
   "outputs": [
    {
     "data": {
      "text/plain": [
       "'Hello World 2'"
      ]
     },
     "execution_count": 22,
     "metadata": {},
     "output_type": "execute_result"
    }
   ],
   "source": [
    "# Note that we can't output multiple strings this way\n",
    "'Hello World 1'\n",
    "'Hello World 2'"
   ]
  },
  {
   "cell_type": "code",
   "execution_count": 23,
   "id": "4e55dccd",
   "metadata": {},
   "outputs": [
    {
     "name": "stdout",
     "output_type": "stream",
     "text": [
      "Hello World 1\n",
      "Hello World 2\n",
      "Use \n",
      " to print a new line\n",
      "\n",
      "\n",
      "See what I mean?\n"
     ]
    }
   ],
   "source": [
    "print('Hello World 1')\n",
    "print('Hello World 2')\n",
    "print('Use \\n to print a new line')\n",
    "print('\\n')\n",
    "print('See what I mean?')"
   ]
  },
  {
   "cell_type": "code",
   "execution_count": 26,
   "id": "0b2128b3",
   "metadata": {},
   "outputs": [
    {
     "name": "stdout",
     "output_type": "stream",
     "text": [
      "I am Sushree\n",
      "My age is 30 yrs old\n",
      "My nickname is \n",
      " Rakhi\n",
      "\n",
      "\n",
      "Rakhi\n"
     ]
    }
   ],
   "source": [
    "print('I am Sushree')\n",
    "print('My age is 30 yrs old')\n",
    "print('My nickname is \\n Rakhi')\n",
    "print('\\n')\n",
    "print('Rakhi')"
   ]
  },
  {
   "cell_type": "markdown",
   "id": "602cd9f7",
   "metadata": {},
   "source": [
    "### String Basics"
   ]
  },
  {
   "cell_type": "code",
   "execution_count": 27,
   "id": "a1645f91",
   "metadata": {},
   "outputs": [
    {
     "data": {
      "text/plain": [
       "11"
      ]
     },
     "execution_count": 27,
     "metadata": {},
     "output_type": "execute_result"
    }
   ],
   "source": [
    "len('Hello World')"
   ]
  },
  {
   "cell_type": "code",
   "execution_count": 28,
   "id": "ac0f7a36",
   "metadata": {},
   "outputs": [
    {
     "data": {
      "text/plain": [
       "16"
      ]
     },
     "execution_count": 28,
     "metadata": {},
     "output_type": "execute_result"
    }
   ],
   "source": [
    "len('Sushree Sraswati')"
   ]
  },
  {
   "cell_type": "markdown",
   "id": "af2ce2b5",
   "metadata": {},
   "source": [
    "## String Indexing"
   ]
  },
  {
   "cell_type": "code",
   "execution_count": 31,
   "id": "839bf21d",
   "metadata": {},
   "outputs": [
    {
     "name": "stdout",
     "output_type": "stream",
     "text": [
      "Hello World\n"
     ]
    }
   ],
   "source": [
    "# Assign s as a string\n",
    "s = 'Hello World'\n",
    "print(s)"
   ]
  },
  {
   "cell_type": "code",
   "execution_count": null,
   "id": "63df9905",
   "metadata": {},
   "outputs": [],
   "source": []
  }
 ],
 "metadata": {
  "kernelspec": {
   "display_name": "Python 3",
   "language": "python",
   "name": "python3"
  },
  "language_info": {
   "codemirror_mode": {
    "name": "ipython",
    "version": 3
   },
   "file_extension": ".py",
   "mimetype": "text/x-python",
   "name": "python",
   "nbconvert_exporter": "python",
   "pygments_lexer": "ipython3",
   "version": "3.8.8"
  }
 },
 "nbformat": 4,
 "nbformat_minor": 5
}
