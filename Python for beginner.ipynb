{
 "cells": [
  {
   "cell_type": "markdown",
   "id": "3b0f29b5",
   "metadata": {},
   "source": [
    "# 2.Primitive Data Types"
   ]
  },
  {
   "cell_type": "markdown",
   "id": "b508a5c0",
   "metadata": {},
   "source": [
    "## 1. Variables"
   ]
  },
  {
   "cell_type": "code",
   "execution_count": 2,
   "id": "c8394c78",
   "metadata": {},
   "outputs": [
    {
     "name": "stdout",
     "output_type": "stream",
     "text": [
      "1000\n"
     ]
    }
   ],
   "source": [
    "student_count = 1000\n",
    "print(student_count)"
   ]
  },
  {
   "cell_type": "code",
   "execution_count": 5,
   "id": "7e6fbb72",
   "metadata": {},
   "outputs": [
    {
     "data": {
      "text/plain": [
       "float"
      ]
     },
     "execution_count": 5,
     "metadata": {},
     "output_type": "execute_result"
    }
   ],
   "source": [
    "rating = 4.9\n",
    "type(rating)\n"
   ]
  },
  {
   "cell_type": "code",
   "execution_count": 6,
   "id": "a84cfa6c",
   "metadata": {},
   "outputs": [
    {
     "name": "stdout",
     "output_type": "stream",
     "text": [
      "4.9\n"
     ]
    }
   ],
   "source": [
    "print(rating)"
   ]
  },
  {
   "cell_type": "code",
   "execution_count": 10,
   "id": "d3cc77be",
   "metadata": {},
   "outputs": [
    {
     "data": {
      "text/plain": [
       "bool"
      ]
     },
     "execution_count": 10,
     "metadata": {},
     "output_type": "execute_result"
    }
   ],
   "source": [
    "my_name_is_sushree = False  \n",
    "type(my_name_is_sushree)"
   ]
  },
  {
   "cell_type": "code",
   "execution_count": 11,
   "id": "fb57e168",
   "metadata": {},
   "outputs": [
    {
     "name": "stdout",
     "output_type": "stream",
     "text": [
      "False\n"
     ]
    }
   ],
   "source": [
    "print(my_name_is_sushree)"
   ]
  },
  {
   "cell_type": "code",
   "execution_count": 12,
   "id": "be48824e",
   "metadata": {},
   "outputs": [
    {
     "data": {
      "text/plain": [
       "bool"
      ]
     },
     "execution_count": 12,
     "metadata": {},
     "output_type": "execute_result"
    }
   ],
   "source": [
    "type(my_name_is_sushree)"
   ]
  },
  {
   "cell_type": "markdown",
   "id": "c2a6c0f6",
   "metadata": {},
   "source": [
    "### 2.Variables Names"
   ]
  },
  {
   "cell_type": "code",
   "execution_count": 18,
   "id": "12cc1f7e",
   "metadata": {},
   "outputs": [
    {
     "name": "stdout",
     "output_type": "stream",
     "text": [
      "sc\n",
      "1000\n",
      "sc=1000\n"
     ]
    }
   ],
   "source": [
    "sc = 1000\n",
    "print('sc')\n",
    "print(sc)\n",
    "print('sc=1000')"
   ]
  },
  {
   "cell_type": "markdown",
   "id": "7fedc1ca",
   "metadata": {},
   "source": [
    "### 3.Strings"
   ]
  },
  {
   "cell_type": "code",
   "execution_count": 30,
   "id": "50a19dec",
   "metadata": {},
   "outputs": [],
   "source": [
    "course = \"python for beginner\" #String must be in single quotes or double quotes.\n",
    "message = ''' Hi everyone . \n",
    "I am sabyasachi from divineAI.\n",
    "Am your python instructer. ''' #Sometimes we use triple quotes beacuse we want to include in the body of an email.\n"
   ]
  },
  {
   "cell_type": "code",
   "execution_count": 31,
   "id": "d4c8259b",
   "metadata": {},
   "outputs": [
    {
     "name": "stdout",
     "output_type": "stream",
     "text": [
      "19\n",
      "p\n",
      "r\n",
      "pyt\n",
      "python for beginner\n",
      "pyt\n",
      "python for beginner\n"
     ]
    }
   ],
   "source": [
    "print(len(course)) #Sometimes we are passing some values in that () and this is called argument.\n",
    "print(course[0])   #It is showing the 0th index of the course variable.\n",
    "print(course[-1])  #it's shows the last letter of the course variable.\n",
    "print(course[0:3]) #it's shows from 0th index to 2nd index.\n",
    "print(course[0:])  #it's shows from 0th index to onwards.\n",
    "print(course[:3])  #it's shows from 0th index to 2nd index.\n",
    "print(course[:])   #it's shows all the above variable course."
   ]
  },
  {
   "cell_type": "code",
   "execution_count": 32,
   "id": "a42e4f7d",
   "metadata": {},
   "outputs": [
    {
     "name": "stdout",
     "output_type": "stream",
     "text": [
      "ohty\n"
     ]
    }
   ],
   "source": [
    "print(course[4:0:-1])"
   ]
  },
  {
   "cell_type": "code",
   "execution_count": 33,
   "id": "8e54b935",
   "metadata": {},
   "outputs": [
    {
     "name": "stdout",
     "output_type": "stream",
     "text": [
      "htyp\n"
     ]
    }
   ],
   "source": [
    "course_2 = \"python for\"\n",
    "print(course_2[-7:-11:-1])"
   ]
  },
  {
   "cell_type": "code",
   "execution_count": 34,
   "id": "a50d0e66",
   "metadata": {},
   "outputs": [
    {
     "data": {
      "text/plain": [
       "'y'"
      ]
     },
     "execution_count": 34,
     "metadata": {},
     "output_type": "execute_result"
    }
   ],
   "source": [
    "course_2[1:3:6]"
   ]
  },
  {
   "cell_type": "code",
   "execution_count": null,
   "id": "a57e230e",
   "metadata": {},
   "outputs": [],
   "source": []
  }
 ],
 "metadata": {
  "kernelspec": {
   "display_name": "Python 3",
   "language": "python",
   "name": "python3"
  },
  "language_info": {
   "codemirror_mode": {
    "name": "ipython",
    "version": 3
   },
   "file_extension": ".py",
   "mimetype": "text/x-python",
   "name": "python",
   "nbconvert_exporter": "python",
   "pygments_lexer": "ipython3",
   "version": "3.8.8"
  }
 },
 "nbformat": 4,
 "nbformat_minor": 5
}
